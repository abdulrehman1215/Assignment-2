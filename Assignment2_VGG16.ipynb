{
  "nbformat": 4,
  "nbformat_minor": 0,
  "metadata": {
    "colab": {
      "provenance": [],
      "gpuType": "T4",
      "include_colab_link": true
    },
    "kernelspec": {
      "name": "python3",
      "display_name": "Python 3"
    },
    "language_info": {
      "name": "python"
    },
    "accelerator": "GPU",
    "gpuClass": "standard"
  },
  "cells": [
    {
      "cell_type": "markdown",
      "metadata": {
        "id": "view-in-github",
        "colab_type": "text"
      },
      "source": [
        "<a href=\"https://colab.research.google.com/github/abdulrehman1215/Assignment-2/blob/main/Assignment2_VGG16.ipynb\" target=\"_parent\"><img src=\"https://colab.research.google.com/assets/colab-badge.svg\" alt=\"Open In Colab\"/></a>"
      ]
    },
    {
      "cell_type": "markdown",
      "source": [
        "# Connect To Google Drive"
      ],
      "metadata": {
        "id": "11Nrwwp8Idjl"
      }
    },
    {
      "cell_type": "code",
      "source": [
        "from google.colab import drive\n",
        "drive.mount('/content/drive')"
      ],
      "metadata": {
        "colab": {
          "base_uri": "https://localhost:8080/"
        },
        "id": "WRrcoa9c478i",
        "outputId": "01866621-ee45-4d61-e7a4-7c9aac5c60e0"
      },
      "execution_count": null,
      "outputs": [
        {
          "output_type": "stream",
          "name": "stdout",
          "text": [
            "Mounted at /content/drive\n"
          ]
        }
      ]
    },
    {
      "cell_type": "markdown",
      "source": [
        "# Untar Data"
      ],
      "metadata": {
        "id": "JT_4OIrEInp1"
      }
    },
    {
      "cell_type": "code",
      "source": [
        "!tar -xvf \"/content/drive/MyDrive/Assignment2 data/train_and_val_set.tar\""
      ],
      "metadata": {
        "id": "q-YJx_lHdIDv"
      },
      "execution_count": null,
      "outputs": []
    },
    {
      "cell_type": "code",
      "source": [
        "!tar -xvf \"/content/drive/MyDrive/Assignment2 data/test_set.tar\""
      ],
      "metadata": {
        "id": "YphZXYsKdND7"
      },
      "execution_count": null,
      "outputs": []
    },
    {
      "cell_type": "markdown",
      "source": [
        "# Load Data"
      ],
      "metadata": {
        "id": "0f74-7UwIsJk"
      }
    },
    {
      "cell_type": "code",
      "source": [
        "import glob,os\n",
        "import numpy as np\n",
        "train_val_path = '/content/train_set/'\n",
        "\n",
        "data_train_val = []\n",
        "        \n",
        "for anno in glob.glob(train_val_path + 'images/*.jpg'):\n",
        "  idx = os.path.basename(anno).split('.')[0]\n",
        "  img_path = os.path.join(train_val_path,f'images/{idx}.jpg')\n",
        "  label = int(np.load(train_val_path + 'annotations/' + idx + '_exp.npy'))\n",
        "  valence = float(np.load(train_val_path + 'annotations/' + idx + '_val.npy'))\n",
        "  arousal = float(np.load(train_val_path + 'annotations/' + idx + '_aro.npy'))\n",
        "  data_train_val.append([img_path,label,valence,arousal])"
      ],
      "metadata": {
        "id": "cfPBLg36dShs"
      },
      "execution_count": null,
      "outputs": []
    },
    {
      "cell_type": "code",
      "source": [
        "import pandas as pd\n",
        "train_val_df = pd.DataFrame(data = data_train_val,columns = ['img_path','label','valence','arousal'])"
      ],
      "metadata": {
        "id": "-U9_SIBzhVmO"
      },
      "execution_count": null,
      "outputs": []
    },
    {
      "cell_type": "code",
      "source": [
        "train_val_df.head()"
      ],
      "metadata": {
        "colab": {
          "base_uri": "https://localhost:8080/",
          "height": 206
        },
        "id": "DNE-nAnGietR",
        "outputId": "53b9e43b-2d70-4315-cf71-b8016663ef3c"
      },
      "execution_count": null,
      "outputs": [
        {
          "output_type": "execute_result",
          "data": {
            "text/plain": [
              "                               img_path  label   valence   arousal\n",
              "0  /content/train_set/images/332455.jpg      1  0.861401  0.096787\n",
              "1   /content/train_set/images/26690.jpg      1  0.526759  0.142225\n",
              "2  /content/train_set/images/119245.jpg      1  0.666667  0.246032\n",
              "3   /content/train_set/images/56912.jpg      0  0.007937 -0.007937\n",
              "4  /content/train_set/images/228932.jpg      6 -0.611111  0.293651"
            ],
            "text/html": [
              "\n",
              "  <div id=\"df-16fa164e-8101-4683-9231-759f1487a586\">\n",
              "    <div class=\"colab-df-container\">\n",
              "      <div>\n",
              "<style scoped>\n",
              "    .dataframe tbody tr th:only-of-type {\n",
              "        vertical-align: middle;\n",
              "    }\n",
              "\n",
              "    .dataframe tbody tr th {\n",
              "        vertical-align: top;\n",
              "    }\n",
              "\n",
              "    .dataframe thead th {\n",
              "        text-align: right;\n",
              "    }\n",
              "</style>\n",
              "<table border=\"1\" class=\"dataframe\">\n",
              "  <thead>\n",
              "    <tr style=\"text-align: right;\">\n",
              "      <th></th>\n",
              "      <th>img_path</th>\n",
              "      <th>label</th>\n",
              "      <th>valence</th>\n",
              "      <th>arousal</th>\n",
              "    </tr>\n",
              "  </thead>\n",
              "  <tbody>\n",
              "    <tr>\n",
              "      <th>0</th>\n",
              "      <td>/content/train_set/images/332455.jpg</td>\n",
              "      <td>1</td>\n",
              "      <td>0.861401</td>\n",
              "      <td>0.096787</td>\n",
              "    </tr>\n",
              "    <tr>\n",
              "      <th>1</th>\n",
              "      <td>/content/train_set/images/26690.jpg</td>\n",
              "      <td>1</td>\n",
              "      <td>0.526759</td>\n",
              "      <td>0.142225</td>\n",
              "    </tr>\n",
              "    <tr>\n",
              "      <th>2</th>\n",
              "      <td>/content/train_set/images/119245.jpg</td>\n",
              "      <td>1</td>\n",
              "      <td>0.666667</td>\n",
              "      <td>0.246032</td>\n",
              "    </tr>\n",
              "    <tr>\n",
              "      <th>3</th>\n",
              "      <td>/content/train_set/images/56912.jpg</td>\n",
              "      <td>0</td>\n",
              "      <td>0.007937</td>\n",
              "      <td>-0.007937</td>\n",
              "    </tr>\n",
              "    <tr>\n",
              "      <th>4</th>\n",
              "      <td>/content/train_set/images/228932.jpg</td>\n",
              "      <td>6</td>\n",
              "      <td>-0.611111</td>\n",
              "      <td>0.293651</td>\n",
              "    </tr>\n",
              "  </tbody>\n",
              "</table>\n",
              "</div>\n",
              "      <button class=\"colab-df-convert\" onclick=\"convertToInteractive('df-16fa164e-8101-4683-9231-759f1487a586')\"\n",
              "              title=\"Convert this dataframe to an interactive table.\"\n",
              "              style=\"display:none;\">\n",
              "        \n",
              "  <svg xmlns=\"http://www.w3.org/2000/svg\" height=\"24px\"viewBox=\"0 0 24 24\"\n",
              "       width=\"24px\">\n",
              "    <path d=\"M0 0h24v24H0V0z\" fill=\"none\"/>\n",
              "    <path d=\"M18.56 5.44l.94 2.06.94-2.06 2.06-.94-2.06-.94-.94-2.06-.94 2.06-2.06.94zm-11 1L8.5 8.5l.94-2.06 2.06-.94-2.06-.94L8.5 2.5l-.94 2.06-2.06.94zm10 10l.94 2.06.94-2.06 2.06-.94-2.06-.94-.94-2.06-.94 2.06-2.06.94z\"/><path d=\"M17.41 7.96l-1.37-1.37c-.4-.4-.92-.59-1.43-.59-.52 0-1.04.2-1.43.59L10.3 9.45l-7.72 7.72c-.78.78-.78 2.05 0 2.83L4 21.41c.39.39.9.59 1.41.59.51 0 1.02-.2 1.41-.59l7.78-7.78 2.81-2.81c.8-.78.8-2.07 0-2.86zM5.41 20L4 18.59l7.72-7.72 1.47 1.35L5.41 20z\"/>\n",
              "  </svg>\n",
              "      </button>\n",
              "      \n",
              "  <style>\n",
              "    .colab-df-container {\n",
              "      display:flex;\n",
              "      flex-wrap:wrap;\n",
              "      gap: 12px;\n",
              "    }\n",
              "\n",
              "    .colab-df-convert {\n",
              "      background-color: #E8F0FE;\n",
              "      border: none;\n",
              "      border-radius: 50%;\n",
              "      cursor: pointer;\n",
              "      display: none;\n",
              "      fill: #1967D2;\n",
              "      height: 32px;\n",
              "      padding: 0 0 0 0;\n",
              "      width: 32px;\n",
              "    }\n",
              "\n",
              "    .colab-df-convert:hover {\n",
              "      background-color: #E2EBFA;\n",
              "      box-shadow: 0px 1px 2px rgba(60, 64, 67, 0.3), 0px 1px 3px 1px rgba(60, 64, 67, 0.15);\n",
              "      fill: #174EA6;\n",
              "    }\n",
              "\n",
              "    [theme=dark] .colab-df-convert {\n",
              "      background-color: #3B4455;\n",
              "      fill: #D2E3FC;\n",
              "    }\n",
              "\n",
              "    [theme=dark] .colab-df-convert:hover {\n",
              "      background-color: #434B5C;\n",
              "      box-shadow: 0px 1px 3px 1px rgba(0, 0, 0, 0.15);\n",
              "      filter: drop-shadow(0px 1px 2px rgba(0, 0, 0, 0.3));\n",
              "      fill: #FFFFFF;\n",
              "    }\n",
              "  </style>\n",
              "\n",
              "      <script>\n",
              "        const buttonEl =\n",
              "          document.querySelector('#df-16fa164e-8101-4683-9231-759f1487a586 button.colab-df-convert');\n",
              "        buttonEl.style.display =\n",
              "          google.colab.kernel.accessAllowed ? 'block' : 'none';\n",
              "\n",
              "        async function convertToInteractive(key) {\n",
              "          const element = document.querySelector('#df-16fa164e-8101-4683-9231-759f1487a586');\n",
              "          const dataTable =\n",
              "            await google.colab.kernel.invokeFunction('convertToInteractive',\n",
              "                                                     [key], {});\n",
              "          if (!dataTable) return;\n",
              "\n",
              "          const docLinkHtml = 'Like what you see? Visit the ' +\n",
              "            '<a target=\"_blank\" href=https://colab.research.google.com/notebooks/data_table.ipynb>data table notebook</a>'\n",
              "            + ' to learn more about interactive tables.';\n",
              "          element.innerHTML = '';\n",
              "          dataTable['output_type'] = 'display_data';\n",
              "          await google.colab.output.renderOutput(dataTable, element);\n",
              "          const docLink = document.createElement('div');\n",
              "          docLink.innerHTML = docLinkHtml;\n",
              "          element.appendChild(docLink);\n",
              "        }\n",
              "      </script>\n",
              "    </div>\n",
              "  </div>\n",
              "  "
            ]
          },
          "metadata": {},
          "execution_count": 6
        }
      ]
    },
    {
      "cell_type": "code",
      "source": [
        "for i in range(8):\n",
        "  dir_path = 'train/' + str(i)\n",
        "  os.makedirs(dir_path)"
      ],
      "metadata": {
        "id": "hdUF3Xk_nD09"
      },
      "execution_count": null,
      "outputs": []
    },
    {
      "cell_type": "code",
      "execution_count": null,
      "metadata": {
        "id": "Wk9BMLR3c6h_"
      },
      "outputs": [],
      "source": [
        "import shutil\n",
        "for i in range(8):\n",
        "  for c in list(train_val_df[train_val_df['label']== i]['img_path']):\n",
        "    get_image = os.path.join('/content/train_set/images/', c)\n",
        "    move_image = shutil.copy(get_image, '/content/train/' + str(i))"
      ]
    },
    {
      "cell_type": "code",
      "source": [
        "import keras\n",
        "from keras import Sequential\n",
        "from keras.layers import Dense,Conv2D,MaxPooling2D,Flatten,BatchNormalization,Dropout"
      ],
      "metadata": {
        "id": "IdVWloL8dinT"
      },
      "execution_count": null,
      "outputs": []
    },
    {
      "cell_type": "code",
      "source": [
        "train_ds = keras.utils.image_dataset_from_directory(\n",
        "    directory = '/content/train/',\n",
        "    labels='inferred',\n",
        "    label_mode = 'categorical',\n",
        "    batch_size=200,\n",
        "    image_size=(224,224)\n",
        ")"
      ],
      "metadata": {
        "id": "ytax2R8FlRO3",
        "colab": {
          "base_uri": "https://localhost:8080/"
        },
        "outputId": "2184fe45-916f-4979-dfc9-f11825265a25"
      },
      "execution_count": null,
      "outputs": [
        {
          "output_type": "stream",
          "name": "stdout",
          "text": [
            "Found 287651 files belonging to 8 classes.\n"
          ]
        }
      ]
    },
    {
      "cell_type": "code",
      "source": [
        "test_path = '/content/val_set/'\n",
        "\n",
        "data_test = []\n",
        "        \n",
        "for anno in glob.glob(test_path + 'images/*.jpg'):\n",
        "  idx = os.path.basename(anno).split('.')[0]\n",
        "  img_path = os.path.join(test_path,f'images/{idx}.jpg')\n",
        "  label = int(np.load(test_path + 'annotations/' + idx + '_exp.npy'))\n",
        "  valence = float(np.load(test_path + 'annotations/' + idx + '_val.npy'))\n",
        "  arousal = float(np.load(test_path + 'annotations/' + idx + '_aro.npy'))\n",
        "  data_test.append([img_path,label,valence,arousal])\n",
        "\n",
        "test_df = pd.DataFrame(data = data_test,columns = ['img_path','label','valence','arousal'])\n",
        "for i in range(8):\n",
        "  dir_path = 'test/' + str(i)\n",
        "  os.makedirs(dir_path)\n",
        "\n",
        "for i in range(8):\n",
        "  for c in list(test_df[test_df['label']== i]['img_path']):\n",
        "    get_image = os.path.join('/content/val_set/images/', c)\n",
        "    move_image = shutil.copy(get_image, '/content/test/' + str(i))\n",
        "\n",
        "\n",
        "val_ds = keras.utils.image_dataset_from_directory(\n",
        "    directory = '/content/test/',\n",
        "    labels='inferred',\n",
        "    label_mode = 'categorical',\n",
        "    batch_size=200,\n",
        "    image_size=(224,224)\n",
        ")"
      ],
      "metadata": {
        "id": "_HJE_9XDlrLM",
        "colab": {
          "base_uri": "https://localhost:8080/"
        },
        "outputId": "28775e69-5578-44f3-fc86-b2911988681d"
      },
      "execution_count": null,
      "outputs": [
        {
          "output_type": "stream",
          "name": "stdout",
          "text": [
            "Found 3999 files belonging to 8 classes.\n"
          ]
        }
      ]
    },
    {
      "cell_type": "markdown",
      "source": [
        "# Normalize Data"
      ],
      "metadata": {
        "id": "gZTGxKWNIv8B"
      }
    },
    {
      "cell_type": "code",
      "source": [
        "import tensorflow as tf\n",
        "def process(image,label):\n",
        "    image = tf.cast(image/255. ,tf.float32)\n",
        "    return image,label\n",
        "\n",
        "train_ds = train_ds.map(process)\n",
        "val_ds = val_ds.map(process)"
      ],
      "metadata": {
        "id": "ByOAFpf91FPZ"
      },
      "execution_count": null,
      "outputs": []
    },
    {
      "cell_type": "markdown",
      "source": [
        "# Applying Transfer Learning in Pretrained VGG16 Net"
      ],
      "metadata": {
        "id": "14KIkihTI1Fa"
      }
    },
    {
      "cell_type": "code",
      "source": [
        "from keras.applications import VGG16\n",
        "\n",
        "base_model = VGG16(weights='imagenet', include_top=False, input_shape=(224, 224, 3))\n",
        "\n",
        "# Freeze the weights of the base model\n",
        "for layer in base_model.layers:\n",
        "    layer.trainable = False\n",
        "\n",
        "# Add your own classification and regression layers\n",
        "x = base_model.output\n",
        "x = Flatten()(x)\n",
        "x = Dense(128, activation='relu')(x)\n",
        "x = Dense(256, activation='relu')(x)\n",
        "x = Dropout(0.5)(x)\n",
        "x = Dense(8,activation='softmax')(x)"
      ],
      "metadata": {
        "id": "6EpTzgyZxm54",
        "colab": {
          "base_uri": "https://localhost:8080/"
        },
        "outputId": "ffef101e-b09c-4586-9f0c-0793b9f68529"
      },
      "execution_count": null,
      "outputs": [
        {
          "output_type": "stream",
          "name": "stdout",
          "text": [
            "Downloading data from https://storage.googleapis.com/tensorflow/keras-applications/vgg16/vgg16_weights_tf_dim_ordering_tf_kernels_notop.h5\n",
            "58889256/58889256 [==============================] - 0s 0us/step\n"
          ]
        }
      ]
    },
    {
      "cell_type": "code",
      "source": [
        "from keras.models import Model\n",
        "\n",
        "model = Model(inputs=base_model.input, outputs=x)"
      ],
      "metadata": {
        "id": "W0DzLwn4yazR"
      },
      "execution_count": null,
      "outputs": []
    },
    {
      "cell_type": "markdown",
      "source": [
        "# Training The Model"
      ],
      "metadata": {
        "id": "aDQLRgKqI_qf"
      }
    },
    {
      "cell_type": "code",
      "source": [
        "model.compile(optimizer='adam',loss='categorical_crossentropy',metrics=['accuracy'])\n",
        "\n",
        "history = model.fit(train_ds,epochs=10, validation_data=val_ds)"
      ],
      "metadata": {
        "id": "dDAcGPlr0Njw",
        "colab": {
          "base_uri": "https://localhost:8080/"
        },
        "outputId": "206ef5dd-5fce-420a-c266-ecd5c4ed948a"
      },
      "execution_count": null,
      "outputs": [
        {
          "output_type": "stream",
          "name": "stdout",
          "text": [
            "Epoch 1/10\n",
            "1439/1439 [==============================] - 1476s 1s/step - loss: 0.9951 - accuracy: 0.6589 - val_loss: 2.0615 - val_accuracy: 0.3393\n",
            "Epoch 2/10\n",
            "1439/1439 [==============================] - 1375s 954ms/step - loss: 0.8752 - accuracy: 0.6970 - val_loss: 2.0412 - val_accuracy: 0.3543\n",
            "Epoch 3/10\n",
            "1439/1439 [==============================] - 1374s 954ms/step - loss: 0.8374 - accuracy: 0.7087 - val_loss: 1.8687 - val_accuracy: 0.3811\n",
            "Epoch 4/10\n",
            "1439/1439 [==============================] - 1400s 972ms/step - loss: 0.8084 - accuracy: 0.7188 - val_loss: 2.1846 - val_accuracy: 0.3601\n",
            "Epoch 5/10\n",
            "1439/1439 [==============================] - 1375s 955ms/step - loss: 0.7870 - accuracy: 0.7251 - val_loss: 1.8918 - val_accuracy: 0.3761\n",
            "Epoch 6/10\n",
            "1439/1439 [==============================] - 1399s 971ms/step - loss: 0.7691 - accuracy: 0.7303 - val_loss: 1.9385 - val_accuracy: 0.3796\n",
            "Epoch 7/10\n",
            "1439/1439 [==============================] - 1395s 968ms/step - loss: 0.7532 - accuracy: 0.7348 - val_loss: 2.1991 - val_accuracy: 0.3723\n",
            "Epoch 8/10\n",
            "1439/1439 [==============================] - 1374s 954ms/step - loss: 0.7400 - accuracy: 0.7392 - val_loss: 2.1258 - val_accuracy: 0.3758\n",
            "Epoch 9/10\n",
            "1439/1439 [==============================] - 1377s 956ms/step - loss: 0.7252 - accuracy: 0.7437 - val_loss: 2.1311 - val_accuracy: 0.3858\n",
            "Epoch 10/10\n",
            " 150/1439 [==>...........................] - ETA: 20:02 - loss: 0.7104 - accuracy: 0.7504"
          ]
        }
      ]
    },
    {
      "cell_type": "markdown",
      "source": [],
      "metadata": {
        "id": "mo7e-yAephmV"
      }
    },
    {
      "cell_type": "markdown",
      "source": [
        "# Saving The model to Google Drive"
      ],
      "metadata": {
        "id": "G1NgPirQJHvr"
      }
    },
    {
      "cell_type": "code",
      "source": [
        "model.save('/content/drive/MyDrive/Assignment2 data/vgg16_classification.h5' , save_format = 'h5')"
      ],
      "metadata": {
        "id": "H8LWdhKNDh8L"
      },
      "execution_count": null,
      "outputs": []
    }
  ]
}